{
 "cells": [
  {
   "cell_type": "code",
   "execution_count": 10,
   "metadata": {},
   "outputs": [],
   "source": [
    "import pyttsx3\n",
    "import datetime\n",
    "import speech_recognition as sr\n",
    "import wikipedia\n",
    "engine = pyttsx3.init()"
   ]
  },
  {
   "cell_type": "code",
   "execution_count": 2,
   "metadata": {},
   "outputs": [],
   "source": [
    "def speak(audio):\n",
    "    engine.say(audio)\n",
    "    engine.runAndWait()\n",
    "    \n",
    "    \n",
    "speak(\"Hello Shreyansh Gupta\")"
   ]
  },
  {
   "cell_type": "code",
   "execution_count": 3,
   "metadata": {},
   "outputs": [],
   "source": [
    "import datetime\n",
    "def time_():\n",
    "    Time = datetime.datetime.now().strftime(\"%I:%M:%S\") # for 24 hour clock use %H in place of %H\n",
    "    speak(\"The current time is\")\n",
    "    speak(Time)\n",
    "time_()"
   ]
  },
  {
   "cell_type": "code",
   "execution_count": 4,
   "metadata": {},
   "outputs": [],
   "source": [
    "def date_():\n",
    "    year = datetime.datetime.now().year\n",
    "    month = datetime.datetime.now().month\n",
    "    date = datetime.datetime.now().day\n",
    "    speak(\"Current date is\")\n",
    "    speak(date)\n",
    "    speak(month)\n",
    "    speak(year)\n",
    "    \n",
    "date_()"
   ]
  },
  {
   "cell_type": "code",
   "execution_count": 5,
   "metadata": {},
   "outputs": [],
   "source": [
    "def wishme():\n",
    "    speak(\"Welcome back Shreyansh\")\n",
    "    date_()\n",
    "    time_()\n",
    "    hour = datetime.datetime.now().hour\n",
    "    if hour>=6 and hour<12:\n",
    "        speak(\"Good morning sir!\")\n",
    "    elif hour>=12 and hour<16:\n",
    "        speak(\"Good afternoon sir!\")\n",
    "    elif hour>=16 and hour<19:\n",
    "        speak(\"Good evening sir!\")\n",
    "    else:\n",
    "        speak(\"Good night sir!\")\n",
    "    speak(\"Jarvis 1 point O at your service! What would you like me to do?\")\n",
    "    \n",
    "wishme()"
   ]
  },
  {
   "cell_type": "code",
   "execution_count": 6,
   "metadata": {},
   "outputs": [
    {
     "name": "stdout",
     "output_type": "stream",
     "text": [
      "Listening.....\n",
      "Recognizing...\n",
      "hello\n"
     ]
    },
    {
     "data": {
      "text/plain": [
       "'hello'"
      ]
     },
     "execution_count": 6,
     "metadata": {},
     "output_type": "execute_result"
    }
   ],
   "source": [
    "def TakeCommand():\n",
    "    r = sr.Recognizer()\n",
    "    with sr.Microphone() as source:\n",
    "        print(\"Listening.....\")\n",
    "        r.pause_threshold = 1\n",
    "        audio = r.listen(source)\n",
    "        \n",
    "    try:\n",
    "        print(\"Recognizing...\")\n",
    "        query = r.recognize_google(audio,language='en-US')\n",
    "        print(query)\n",
    "    except Exception as e:\n",
    "        print(e)\n",
    "        print(\"Say that again please....\")\n",
    "        return None\n",
    "    return query\n",
    "TakeCommand()"
   ]
  },
  {
   "cell_type": "code",
   "execution_count": null,
   "metadata": {},
   "outputs": [
    {
     "name": "stdout",
     "output_type": "stream",
     "text": [
      "Listening.....\n",
      "Recognizing...\n",
      "Wikipedia Ravan\n",
      "A raven is one of several larger-bodied species of the genus Corvus. These species do not form a single taxonomic group within the genus.\n",
      "There is no consistent distinction between \"crows\" and \"ravens\", and these appellations have been assigned to different species chiefly on the basis of their size, crows generally being smaller than ravens.\n",
      "Listening.....\n"
     ]
    }
   ],
   "source": [
    "if __name__ == \"__main__\":\n",
    "    wishme()\n",
    "    \n",
    "    while True:\n",
    "        query = TakeCommand().lower()\n",
    "        #all commands in lower case for easy recognition\n",
    "        \n",
    "        if \"time\" in query:\n",
    "            time_()\n",
    "            \n",
    "        elif \"date\" in query:\n",
    "            date_()\n",
    "        \n",
    "        elif \"wikipedia\" in query:\n",
    "            speak(\"Searching.....\")\n",
    "            query = query.replace(\"wikipedia\",\"\")\n",
    "            result = wikipedia.summary(query,sentences = 3)\n",
    "            speak('According to wikipedia')\n",
    "            print(result)\n",
    "            speak(result)\n",
    "        elif 'quit' in query:\n",
    "            break"
   ]
  },
  {
   "cell_type": "code",
   "execution_count": null,
   "metadata": {},
   "outputs": [],
   "source": [
    "query = TakeCommand().lower()\n",
    "speak(\"Searching.....\")\n",
    "query = query.replace(\"wikipedia\",\"\")\n",
    "result = wikipedia.summary(query,sentences = 3)\n",
    "speak('According to wikipedia')\n",
    "print(result)\n",
    "speak(result)"
   ]
  },
  {
   "cell_type": "code",
   "execution_count": null,
   "metadata": {},
   "outputs": [],
   "source": []
  }
 ],
 "metadata": {
  "kernelspec": {
   "display_name": "Python 3",
   "language": "python",
   "name": "python3"
  },
  "language_info": {
   "codemirror_mode": {
    "name": "ipython",
    "version": 3
   },
   "file_extension": ".py",
   "mimetype": "text/x-python",
   "name": "python",
   "nbconvert_exporter": "python",
   "pygments_lexer": "ipython3",
   "version": "3.7.3"
  }
 },
 "nbformat": 4,
 "nbformat_minor": 4
}
